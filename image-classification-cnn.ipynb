{
 "cells": [
  {
   "cell_type": "markdown",
   "id": "af4fe9a7",
   "metadata": {
    "papermill": {
     "duration": 0.006604,
     "end_time": "2023-12-02T17:54:43.587135",
     "exception": false,
     "start_time": "2023-12-02T17:54:43.580531",
     "status": "completed"
    },
    "tags": []
   },
   "source": [
    "# **Importing dependencies**"
   ]
  },
  {
   "cell_type": "code",
   "execution_count": 1,
   "id": "0a8e6171",
   "metadata": {
    "execution": {
     "iopub.execute_input": "2023-12-02T17:54:43.600913Z",
     "iopub.status.busy": "2023-12-02T17:54:43.600563Z",
     "iopub.status.idle": "2023-12-02T17:54:56.962930Z",
     "shell.execute_reply": "2023-12-02T17:54:56.961729Z"
    },
    "papermill": {
     "duration": 13.371991,
     "end_time": "2023-12-02T17:54:56.965289",
     "exception": false,
     "start_time": "2023-12-02T17:54:43.593298",
     "status": "completed"
    },
    "tags": []
   },
   "outputs": [],
   "source": [
    "import pandas as pd\n",
    "import numpy as np\n",
    "import tensorflow as tf\n",
    "from tensorflow.keras import datasets,layers,models\n",
    "import matplotlib.pyplot as plt"
   ]
  },
  {
   "cell_type": "markdown",
   "id": "a47aeb0e",
   "metadata": {
    "papermill": {
     "duration": 0.005616,
     "end_time": "2023-12-02T17:54:56.977062",
     "exception": false,
     "start_time": "2023-12-02T17:54:56.971446",
     "status": "completed"
    },
    "tags": []
   },
   "source": [
    "# Loading CIFAR dataset,train-test split"
   ]
  },
  {
   "cell_type": "code",
   "execution_count": 2,
   "id": "6ca48429",
   "metadata": {
    "execution": {
     "iopub.execute_input": "2023-12-02T17:54:56.991163Z",
     "iopub.status.busy": "2023-12-02T17:54:56.990510Z",
     "iopub.status.idle": "2023-12-02T17:55:04.731303Z",
     "shell.execute_reply": "2023-12-02T17:55:04.729286Z"
    },
    "papermill": {
     "duration": 7.750928,
     "end_time": "2023-12-02T17:55:04.733737",
     "exception": false,
     "start_time": "2023-12-02T17:54:56.982809",
     "status": "completed"
    },
    "tags": []
   },
   "outputs": [
    {
     "name": "stdout",
     "output_type": "stream",
     "text": [
      "Downloading data from https://www.cs.toronto.edu/~kriz/cifar-10-python.tar.gz\n",
      "170498071/170498071 [==============================] - 6s 0us/step\n"
     ]
    }
   ],
   "source": [
    "(x_train,y_train),(x_test,y_test)=datasets.cifar10.load_data()\n"
   ]
  },
  {
   "cell_type": "code",
   "execution_count": 3,
   "id": "8265b14b",
   "metadata": {
    "execution": {
     "iopub.execute_input": "2023-12-02T17:55:04.755534Z",
     "iopub.status.busy": "2023-12-02T17:55:04.755159Z",
     "iopub.status.idle": "2023-12-02T17:55:04.763853Z",
     "shell.execute_reply": "2023-12-02T17:55:04.762541Z"
    },
    "papermill": {
     "duration": 0.022132,
     "end_time": "2023-12-02T17:55:04.765858",
     "exception": false,
     "start_time": "2023-12-02T17:55:04.743726",
     "status": "completed"
    },
    "tags": []
   },
   "outputs": [
    {
     "data": {
      "text/plain": [
       "((50000, 32, 32, 3), (10000, 32, 32, 3))"
      ]
     },
     "execution_count": 3,
     "metadata": {},
     "output_type": "execute_result"
    }
   ],
   "source": [
    "x_train.shape,x_test.shape"
   ]
  },
  {
   "cell_type": "markdown",
   "id": "3317d991",
   "metadata": {
    "papermill": {
     "duration": 0.009217,
     "end_time": "2023-12-02T17:55:04.784878",
     "exception": false,
     "start_time": "2023-12-02T17:55:04.775661",
     "status": "completed"
    },
    "tags": []
   },
   "source": [
    "Plot image"
   ]
  },
  {
   "cell_type": "code",
   "execution_count": 4,
   "id": "af357822",
   "metadata": {
    "execution": {
     "iopub.execute_input": "2023-12-02T17:55:04.805699Z",
     "iopub.status.busy": "2023-12-02T17:55:04.805343Z",
     "iopub.status.idle": "2023-12-02T17:55:04.810268Z",
     "shell.execute_reply": "2023-12-02T17:55:04.809401Z"
    },
    "papermill": {
     "duration": 0.01773,
     "end_time": "2023-12-02T17:55:04.812214",
     "exception": false,
     "start_time": "2023-12-02T17:55:04.794484",
     "status": "completed"
    },
    "tags": []
   },
   "outputs": [],
   "source": [
    "objects = [\"airplane\",\"automobile\",\"bird\",\"cat\",\"deer\",\"dog\",\"frog\",\"horse\",\"ship\",\"truck\"]\n"
   ]
  },
  {
   "cell_type": "code",
   "execution_count": 5,
   "id": "ca27fc97",
   "metadata": {
    "execution": {
     "iopub.execute_input": "2023-12-02T17:55:04.833431Z",
     "iopub.status.busy": "2023-12-02T17:55:04.833063Z",
     "iopub.status.idle": "2023-12-02T17:55:05.054732Z",
     "shell.execute_reply": "2023-12-02T17:55:05.053553Z"
    },
    "papermill": {
     "duration": 0.23519,
     "end_time": "2023-12-02T17:55:05.057203",
     "exception": false,
     "start_time": "2023-12-02T17:55:04.822013",
     "status": "completed"
    },
    "tags": []
   },
   "outputs": [
    {
     "data": {
      "text/plain": [
       "<matplotlib.image.AxesImage at 0x7a014a9bd210>"
      ]
     },
     "execution_count": 5,
     "metadata": {},
     "output_type": "execute_result"
    },
    {
     "data": {
      "image/png": "[encoded data removed]",
      "text/plain": [
       "<Figure size 640x480 with 1 Axes>"
      ]
     },
     "metadata": {},
     "output_type": "display_data"
    }
   ],
   "source": [
    "plt.imshow(x_train[0])"
   ]
  },
  {
   "cell_type": "code",
   "execution_count": 6,
   "id": "21119028",
   "metadata": {
    "execution": {
     "iopub.execute_input": "2023-12-02T17:55:05.080625Z",
     "iopub.status.busy": "2023-12-02T17:55:05.080228Z",
     "iopub.status.idle": "2023-12-02T17:55:05.085547Z",
     "shell.execute_reply": "2023-12-02T17:55:05.083798Z"
    },
    "papermill": {
     "duration": 0.020306,
     "end_time": "2023-12-02T17:55:05.088011",
     "exception": false,
     "start_time": "2023-12-02T17:55:05.067705",
     "status": "completed"
    },
    "tags": []
   },
   "outputs": [],
   "source": [
    "y_train=y_train.reshape(-1,)"
   ]
  },
  {
   "cell_type": "code",
   "execution_count": 7,
   "id": "8ff74b25",
   "metadata": {
    "execution": {
     "iopub.execute_input": "2023-12-02T17:55:05.110975Z",
     "iopub.status.busy": "2023-12-02T17:55:05.110300Z",
     "iopub.status.idle": "2023-12-02T17:55:05.116836Z",
     "shell.execute_reply": "2023-12-02T17:55:05.115773Z"
    },
    "papermill": {
     "duration": 0.020114,
     "end_time": "2023-12-02T17:55:05.118846",
     "exception": false,
     "start_time": "2023-12-02T17:55:05.098732",
     "status": "completed"
    },
    "tags": []
   },
   "outputs": [
    {
     "data": {
      "text/plain": [
       "array([6, 9, 9, 4, 1], dtype=uint8)"
      ]
     },
     "execution_count": 7,
     "metadata": {},
     "output_type": "execute_result"
    }
   ],
   "source": [
    "y_train[:5]"
   ]
  },
  {
   "cell_type": "markdown",
   "id": "56f0dfac",
   "metadata": {
    "papermill": {
     "duration": 0.010576,
     "end_time": "2023-12-02T17:55:05.139726",
     "exception": false,
     "start_time": "2023-12-02T17:55:05.129150",
     "status": "completed"
    },
    "tags": []
   },
   "source": [
    "# Plotting the image"
   ]
  },
  {
   "cell_type": "code",
   "execution_count": 8,
   "id": "dafaa295",
   "metadata": {
    "execution": {
     "iopub.execute_input": "2023-12-02T17:55:05.161751Z",
     "iopub.status.busy": "2023-12-02T17:55:05.161424Z",
     "iopub.status.idle": "2023-12-02T17:55:05.166311Z",
     "shell.execute_reply": "2023-12-02T17:55:05.165187Z"
    },
    "papermill": {
     "duration": 0.018226,
     "end_time": "2023-12-02T17:55:05.168088",
     "exception": false,
     "start_time": "2023-12-02T17:55:05.149862",
     "status": "completed"
    },
    "tags": []
   },
   "outputs": [],
   "source": [
    "def plot_img(x,y,i):\n",
    "    plt.figure(figsize=(16,4))\n",
    "    plt.imshow(x[i])\n",
    "    plt.xlabel(objects[y[i]])"
   ]
  },
  {
   "cell_type": "code",
   "execution_count": 9,
   "id": "7fd86f33",
   "metadata": {
    "execution": {
     "iopub.execute_input": "2023-12-02T17:55:05.191226Z",
     "iopub.status.busy": "2023-12-02T17:55:05.190416Z",
     "iopub.status.idle": "2023-12-02T17:55:05.374686Z",
     "shell.execute_reply": "2023-12-02T17:55:05.373326Z"
    },
    "papermill": {
     "duration": 0.198453,
     "end_time": "2023-12-02T17:55:05.377009",
     "exception": false,
     "start_time": "2023-12-02T17:55:05.178556",
     "status": "completed"
    },
    "tags": []
   },
   "outputs": [
    {
     "data": {
      "image/png": "[encoded data removed]",
      "text/plain": [
       "<Figure size 1600x400 with 1 Axes>"
      ]
     },
     "metadata": {},
     "output_type": "display_data"
    }
   ],
   "source": [
    "plot_img(x_train,y_train,4)"
   ]
  },
  {
   "cell_type": "markdown",
   "id": "87171a07",
   "metadata": {
    "papermill": {
     "duration": 0.010016,
     "end_time": "2023-12-02T17:55:05.397167",
     "exception": false,
     "start_time": "2023-12-02T17:55:05.387151",
     "status": "completed"
    },
    "tags": []
   },
   "source": [
    "# Scale the data"
   ]
  },
  {
   "cell_type": "code",
   "execution_count": 10,
   "id": "4152796e",
   "metadata": {
    "execution": {
     "iopub.execute_input": "2023-12-02T17:55:05.420624Z",
     "iopub.status.busy": "2023-12-02T17:55:05.418916Z",
     "iopub.status.idle": "2023-12-02T17:55:05.666491Z",
     "shell.execute_reply": "2023-12-02T17:55:05.665576Z"
    },
    "papermill": {
     "duration": 0.261376,
     "end_time": "2023-12-02T17:55:05.668650",
     "exception": false,
     "start_time": "2023-12-02T17:55:05.407274",
     "status": "completed"
    },
    "tags": []
   },
   "outputs": [],
   "source": [
    "x_train=x_train/255\n",
    "x_test=x_test/255"
   ]
  },
  {
   "cell_type": "markdown",
   "id": "d293a3ea",
   "metadata": {
    "papermill": {
     "duration": 0.009797,
     "end_time": "2023-12-02T17:55:05.688696",
     "exception": false,
     "start_time": "2023-12-02T17:55:05.678899",
     "status": "completed"
    },
    "tags": []
   },
   "source": [
    "# Model Building "
   ]
  },
  {
   "cell_type": "code",
   "execution_count": 11,
   "id": "c4e93cdc",
   "metadata": {
    "execution": {
     "iopub.execute_input": "2023-12-02T17:55:05.711285Z",
     "iopub.status.busy": "2023-12-02T17:55:05.710399Z",
     "iopub.status.idle": "2023-12-02T17:55:05.920077Z",
     "shell.execute_reply": "2023-12-02T17:55:05.918682Z"
    },
    "papermill": {
     "duration": 0.223429,
     "end_time": "2023-12-02T17:55:05.922490",
     "exception": false,
     "start_time": "2023-12-02T17:55:05.699061",
     "status": "completed"
    },
    "tags": []
   },
   "outputs": [],
   "source": [
    "cnn_model=models.Sequential([\n",
    "    layers.Conv2D(filters=32,kernel_size=(3,3),activation='relu',input_shape=(32,32,3)),\n",
    "    layers.MaxPooling2D(2,2),\n",
    "    layers.Conv2D(filters=64,kernel_size=(3,3),activation='relu'),\n",
    "    layers.MaxPooling2D(2,2),\n",
    "    layers.Flatten(),\n",
    "    layers.Dense(64,activation='relu'),\n",
    "    layers.Dense(10,activation='softmax')\n",
    "])"
   ]
  },
  {
   "cell_type": "code",
   "execution_count": 12,
   "id": "a3cc01fd",
   "metadata": {
    "execution": {
     "iopub.execute_input": "2023-12-02T17:55:05.949962Z",
     "iopub.status.busy": "2023-12-02T17:55:05.949564Z",
     "iopub.status.idle": "2023-12-02T17:55:05.966117Z",
     "shell.execute_reply": "2023-12-02T17:55:05.965225Z"
    },
    "papermill": {
     "duration": 0.031441,
     "end_time": "2023-12-02T17:55:05.968453",
     "exception": false,
     "start_time": "2023-12-02T17:55:05.937012",
     "status": "completed"
    },
    "tags": []
   },
   "outputs": [],
   "source": [
    "cnn_model.compile(optimizer='adam',\n",
    "             loss='sparse_categorical_crossentropy',\n",
    "             metrics=['accuracy'])"
   ]
  },
  {
   "cell_type": "markdown",
   "id": "9c3eb036",
   "metadata": {
    "papermill": {
     "duration": 0.010685,
     "end_time": "2023-12-02T17:55:05.989855",
     "exception": false,
     "start_time": "2023-12-02T17:55:05.979170",
     "status": "completed"
    },
    "tags": []
   },
   "source": [
    "# Training the model"
   ]
  },
  {
   "cell_type": "code",
   "execution_count": 13,
   "id": "2a0aed92",
   "metadata": {
    "execution": {
     "iopub.execute_input": "2023-12-02T17:55:06.012971Z",
     "iopub.status.busy": "2023-12-02T17:55:06.012588Z",
     "iopub.status.idle": "2023-12-02T18:01:21.984527Z",
     "shell.execute_reply": "2023-12-02T18:01:21.983231Z"
    },
    "papermill": {
     "duration": 375.986312,
     "end_time": "2023-12-02T18:01:21.986874",
     "exception": false,
     "start_time": "2023-12-02T17:55:06.000562",
     "status": "completed"
    },
    "tags": []
   },
   "outputs": [
    {
     "name": "stdout",
     "output_type": "stream",
     "text": [
      "Epoch 1/15\n",
      "1563/1563 [==============================] - 26s 16ms/step - loss: 1.4693 - accuracy: 0.4718\n",
      "Epoch 2/15\n",
      "1563/1563 [==============================] - 25s 16ms/step - loss: 1.1054 - accuracy: 0.6123\n",
      "Epoch 3/15\n",
      "1563/1563 [==============================] - 25s 16ms/step - loss: 0.9876 - accuracy: 0.6550\n",
      "Epoch 4/15\n",
      "1563/1563 [==============================] - 25s 16ms/step - loss: 0.9058 - accuracy: 0.6850\n",
      "Epoch 5/15\n",
      "1563/1563 [==============================] - 25s 16ms/step - loss: 0.8369 - accuracy: 0.7077\n",
      "Epoch 6/15\n",
      "1563/1563 [==============================] - 25s 16ms/step - loss: 0.7851 - accuracy: 0.7250\n",
      "Epoch 7/15\n",
      "1563/1563 [==============================] - 25s 16ms/step - loss: 0.7332 - accuracy: 0.7444\n",
      "Epoch 8/15\n",
      "1563/1563 [==============================] - 25s 16ms/step - loss: 0.6905 - accuracy: 0.7587\n",
      "Epoch 9/15\n",
      "1563/1563 [==============================] - 25s 16ms/step - loss: 0.6537 - accuracy: 0.7707\n",
      "Epoch 10/15\n",
      "1563/1563 [==============================] - 25s 16ms/step - loss: 0.6162 - accuracy: 0.7837\n",
      "Epoch 11/15\n",
      "1563/1563 [==============================] - 25s 16ms/step - loss: 0.5881 - accuracy: 0.7935\n",
      "Epoch 12/15\n",
      "1563/1563 [==============================] - 25s 16ms/step - loss: 0.5518 - accuracy: 0.8051\n",
      "Epoch 13/15\n",
      "1563/1563 [==============================] - 26s 16ms/step - loss: 0.5216 - accuracy: 0.8171\n",
      "Epoch 14/15\n",
      "1563/1563 [==============================] - 25s 16ms/step - loss: 0.4989 - accuracy: 0.8235\n",
      "Epoch 15/15\n",
      "1563/1563 [==============================] - 25s 16ms/step - loss: 0.4694 - accuracy: 0.8338\n"
     ]
    },
    {
     "data": {
      "text/plain": [
       "<keras.src.callbacks.History at 0x7a014a45f1c0>"
      ]
     },
     "execution_count": 13,
     "metadata": {},
     "output_type": "execute_result"
    }
   ],
   "source": [
    "cnn_model.fit(x_train,y_train,epochs=15)"
   ]
  },
  {
   "cell_type": "code",
   "execution_count": 14,
   "id": "edb8e2d5",
   "metadata": {
    "execution": {
     "iopub.execute_input": "2023-12-02T18:01:22.819867Z",
     "iopub.status.busy": "2023-12-02T18:01:22.819506Z",
     "iopub.status.idle": "2023-12-02T18:01:25.391828Z",
     "shell.execute_reply": "2023-12-02T18:01:25.389885Z"
    },
    "papermill": {
     "duration": 2.966629,
     "end_time": "2023-12-02T18:01:25.393913",
     "exception": false,
     "start_time": "2023-12-02T18:01:22.427284",
     "status": "completed"
    },
    "tags": []
   },
   "outputs": [
    {
     "name": "stdout",
     "output_type": "stream",
     "text": [
      "313/313 [==============================] - 2s 7ms/step - loss: 1.0408 - accuracy: 0.6983\n"
     ]
    },
    {
     "data": {
      "text/plain": [
       "[1.0407997369766235, 0.6983000040054321]"
      ]
     },
     "execution_count": 14,
     "metadata": {},
     "output_type": "execute_result"
    }
   ],
   "source": [
    "cnn_model.evaluate(x_test,y_test)"
   ]
  },
  {
   "cell_type": "code",
   "execution_count": 15,
   "id": "88999dad",
   "metadata": {
    "execution": {
     "iopub.execute_input": "2023-12-02T18:01:26.171403Z",
     "iopub.status.busy": "2023-12-02T18:01:26.170996Z",
     "iopub.status.idle": "2023-12-02T18:01:26.176223Z",
     "shell.execute_reply": "2023-12-02T18:01:26.175115Z"
    },
    "papermill": {
     "duration": 0.402101,
     "end_time": "2023-12-02T18:01:26.178026",
     "exception": false,
     "start_time": "2023-12-02T18:01:25.775925",
     "status": "completed"
    },
    "tags": []
   },
   "outputs": [],
   "source": [
    "y_test=y_test.reshape(-1,)"
   ]
  },
  {
   "cell_type": "code",
   "execution_count": 16,
   "id": "8ae6c011",
   "metadata": {
    "execution": {
     "iopub.execute_input": "2023-12-02T18:01:27.003648Z",
     "iopub.status.busy": "2023-12-02T18:01:27.003263Z",
     "iopub.status.idle": "2023-12-02T18:01:27.196338Z",
     "shell.execute_reply": "2023-12-02T18:01:27.195449Z"
    },
    "papermill": {
     "duration": 0.575407,
     "end_time": "2023-12-02T18:01:27.198289",
     "exception": false,
     "start_time": "2023-12-02T18:01:26.622882",
     "status": "completed"
    },
    "tags": []
   },
   "outputs": [
    {
     "data": {
      "image/png": "[encoded data removed]",
      "text/plain": [
       "<Figure size 1600x400 with 1 Axes>"
      ]
     },
     "metadata": {},
     "output_type": "display_data"
    }
   ],
   "source": [
    "plot_img(x_test,y_test,0)"
   ]
  },
  {
   "cell_type": "markdown",
   "id": "50b35060",
   "metadata": {
    "papermill": {
     "duration": 0.377104,
     "end_time": "2023-12-02T18:01:27.966111",
     "exception": false,
     "start_time": "2023-12-02T18:01:27.589007",
     "status": "completed"
    },
    "tags": []
   },
   "source": [
    "# Prediction"
   ]
  },
  {
   "cell_type": "code",
   "execution_count": 17,
   "id": "1a487e5f",
   "metadata": {
    "execution": {
     "iopub.execute_input": "2023-12-02T18:01:28.787206Z",
     "iopub.status.busy": "2023-12-02T18:01:28.786883Z",
     "iopub.status.idle": "2023-12-02T18:01:31.323890Z",
     "shell.execute_reply": "2023-12-02T18:01:31.322708Z"
    },
    "papermill": {
     "duration": 2.919179,
     "end_time": "2023-12-02T18:01:31.326486",
     "exception": false,
     "start_time": "2023-12-02T18:01:28.407307",
     "status": "completed"
    },
    "tags": []
   },
   "outputs": [
    {
     "name": "stdout",
     "output_type": "stream",
     "text": [
      "313/313 [==============================] - 2s 7ms/step\n"
     ]
    }
   ],
   "source": [
    "y_predict=cnn_model.predict(x_test)"
   ]
  },
  {
   "cell_type": "code",
   "execution_count": 18,
   "id": "cf2ff425",
   "metadata": {
    "execution": {
     "iopub.execute_input": "2023-12-02T18:01:32.101898Z",
     "iopub.status.busy": "2023-12-02T18:01:32.101505Z",
     "iopub.status.idle": "2023-12-02T18:01:32.110381Z",
     "shell.execute_reply": "2023-12-02T18:01:32.109254Z"
    },
    "papermill": {
     "duration": 0.398864,
     "end_time": "2023-12-02T18:01:32.112082",
     "exception": false,
     "start_time": "2023-12-02T18:01:31.713218",
     "status": "completed"
    },
    "tags": []
   },
   "outputs": [
    {
     "data": {
      "text/plain": [
       "array([[1.01983000e-03, 1.67410963e-05, 3.42323282e-03, 9.32202399e-01,\n",
       "        1.42179793e-04, 3.36710848e-02, 2.46865605e-03, 8.22992879e-05,\n",
       "        2.69713793e-02, 2.08670122e-06],\n",
       "       [5.00425404e-06, 2.22048461e-02, 1.18429251e-11, 8.59100180e-10,\n",
       "        6.52485010e-11, 8.32677982e-10, 9.01274788e-09, 4.55598059e-12,\n",
       "        9.77768779e-01, 2.13858912e-05],\n",
       "       [2.57379338e-02, 7.33925223e-01, 1.75404805e-03, 6.78662397e-03,\n",
       "        2.30030459e-03, 6.19659666e-04, 1.49858510e-03, 2.11571925e-03,\n",
       "        1.14750095e-01, 1.10511698e-01],\n",
       "       [5.97499967e-01, 1.50384975e-03, 6.85862685e-03, 6.05393201e-03,\n",
       "        2.78715719e-03, 1.61460281e-04, 8.18645203e-05, 2.53154012e-05,\n",
       "        3.83366495e-01, 1.66133023e-03],\n",
       "       [2.25331220e-09, 2.04072694e-05, 1.09240320e-02, 2.25284994e-02,\n",
       "        3.32188606e-01, 6.57053752e-05, 6.34269714e-01, 1.85267004e-06,\n",
       "        1.12090220e-06, 6.07216819e-08]], dtype=float32)"
      ]
     },
     "execution_count": 18,
     "metadata": {},
     "output_type": "execute_result"
    }
   ],
   "source": [
    "y_predict[:5]"
   ]
  },
  {
   "cell_type": "code",
   "execution_count": 19,
   "id": "eef2c2a9",
   "metadata": {
    "execution": {
     "iopub.execute_input": "2023-12-02T18:01:32.954564Z",
     "iopub.status.busy": "2023-12-02T18:01:32.953811Z",
     "iopub.status.idle": "2023-12-02T18:01:32.984849Z",
     "shell.execute_reply": "2023-12-02T18:01:32.983518Z"
    },
    "papermill": {
     "duration": 0.422418,
     "end_time": "2023-12-02T18:01:32.987376",
     "exception": false,
     "start_time": "2023-12-02T18:01:32.564958",
     "status": "completed"
    },
    "tags": []
   },
   "outputs": [],
   "source": [
    "y_pred=[np.argmax(element) for element in y_predict]"
   ]
  },
  {
   "cell_type": "code",
   "execution_count": 20,
   "id": "a884953f",
   "metadata": {
    "execution": {
     "iopub.execute_input": "2023-12-02T18:01:33.764990Z",
     "iopub.status.busy": "2023-12-02T18:01:33.763485Z",
     "iopub.status.idle": "2023-12-02T18:01:33.770775Z",
     "shell.execute_reply": "2023-12-02T18:01:33.769837Z"
    },
    "papermill": {
     "duration": 0.394314,
     "end_time": "2023-12-02T18:01:33.772986",
     "exception": false,
     "start_time": "2023-12-02T18:01:33.378672",
     "status": "completed"
    },
    "tags": []
   },
   "outputs": [
    {
     "data": {
      "text/plain": [
       "[3, 8, 1, 0, 6]"
      ]
     },
     "execution_count": 20,
     "metadata": {},
     "output_type": "execute_result"
    }
   ],
   "source": [
    "y_pred[:5]"
   ]
  },
  {
   "cell_type": "code",
   "execution_count": 21,
   "id": "c876f036",
   "metadata": {
    "execution": {
     "iopub.execute_input": "2023-12-02T18:01:34.610313Z",
     "iopub.status.busy": "2023-12-02T18:01:34.609907Z",
     "iopub.status.idle": "2023-12-02T18:01:34.616611Z",
     "shell.execute_reply": "2023-12-02T18:01:34.615410Z"
    },
    "papermill": {
     "duration": 0.39856,
     "end_time": "2023-12-02T18:01:34.618542",
     "exception": false,
     "start_time": "2023-12-02T18:01:34.219982",
     "status": "completed"
    },
    "tags": []
   },
   "outputs": [
    {
     "data": {
      "text/plain": [
       "'cat'"
      ]
     },
     "execution_count": 21,
     "metadata": {},
     "output_type": "execute_result"
    }
   ],
   "source": [
    "objects[y_pred[0]]"
   ]
  },
  {
   "cell_type": "markdown",
   "id": "4878d0fb",
   "metadata": {
    "papermill": {
     "duration": 0.38312,
     "end_time": "2023-12-02T18:01:35.384340",
     "exception": false,
     "start_time": "2023-12-02T18:01:35.001220",
     "status": "completed"
    },
    "tags": []
   },
   "source": [
    "# Classification report"
   ]
  },
  {
   "cell_type": "code",
   "execution_count": 22,
   "id": "67806445",
   "metadata": {
    "execution": {
     "iopub.execute_input": "2023-12-02T18:01:36.217668Z",
     "iopub.status.busy": "2023-12-02T18:01:36.217274Z",
     "iopub.status.idle": "2023-12-02T18:01:37.206492Z",
     "shell.execute_reply": "2023-12-02T18:01:37.204884Z"
    },
    "papermill": {
     "duration": 1.375169,
     "end_time": "2023-12-02T18:01:37.209227",
     "exception": false,
     "start_time": "2023-12-02T18:01:35.834058",
     "status": "completed"
    },
    "tags": []
   },
   "outputs": [],
   "source": [
    "from sklearn.metrics import classification_report"
   ]
  },
  {
   "cell_type": "code",
   "execution_count": 23,
   "id": "e281d933",
   "metadata": {
    "execution": {
     "iopub.execute_input": "2023-12-02T18:01:37.984401Z",
     "iopub.status.busy": "2023-12-02T18:01:37.983467Z",
     "iopub.status.idle": "2023-12-02T18:01:38.017875Z",
     "shell.execute_reply": "2023-12-02T18:01:38.016225Z"
    },
    "papermill": {
     "duration": 0.420559,
     "end_time": "2023-12-02T18:01:38.020275",
     "exception": false,
     "start_time": "2023-12-02T18:01:37.599716",
     "status": "completed"
    },
    "tags": []
   },
   "outputs": [
    {
     "name": "stdout",
     "output_type": "stream",
     "text": [
      "              precision    recall  f1-score   support\n",
      "\n",
      "           0       0.76      0.72      0.74      1000\n",
      "           1       0.76      0.83      0.80      1000\n",
      "           2       0.59      0.56      0.57      1000\n",
      "           3       0.57      0.46      0.51      1000\n",
      "           4       0.71      0.62      0.66      1000\n",
      "           5       0.59      0.64      0.62      1000\n",
      "           6       0.69      0.83      0.75      1000\n",
      "           7       0.76      0.73      0.75      1000\n",
      "           8       0.84      0.78      0.81      1000\n",
      "           9       0.70      0.81      0.75      1000\n",
      "\n",
      "    accuracy                           0.70     10000\n",
      "   macro avg       0.70      0.70      0.70     10000\n",
      "weighted avg       0.70      0.70      0.70     10000\n",
      "\n"
     ]
    }
   ],
   "source": [
    "print(classification_report(y_test,y_pred))"
   ]
  }
 ],
 "metadata": {
  "kaggle": {
   "accelerator": "none",
   "dataSources": [],
   "dockerImageVersionId": 30587,
   "isGpuEnabled": false,
   "isInternetEnabled": true,
   "language": "python",
   "sourceType": "notebook"
  },
  "kernelspec": {
   "display_name": "Python 3",
   "language": "python",
   "name": "python3"
  },
  "language_info": {
   "codemirror_mode": {
    "name": "ipython",
    "version": 3
   },
   "file_extension": ".py",
   "mimetype": "text/x-python",
   "name": "python",
   "nbconvert_exporter": "python",
   "pygments_lexer": "ipython3",
   "version": "3.10.12"
  },
  "papermill": {
   "default_parameters": {},
   "duration": 419.233272,
   "end_time": "2023-12-02T18:01:40.199514",
   "environment_variables": {},
   "exception": null,
   "input_path": "__notebook__.ipynb",
   "output_path": "__notebook__.ipynb",
   "parameters": {},
   "start_time": "2023-12-02T17:54:40.966242",
   "version": "2.4.0"
  }
 },
 "nbformat": 4,
 "nbformat_minor": 5
}
